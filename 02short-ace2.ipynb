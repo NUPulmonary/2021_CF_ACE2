{
 "cells": [
  {
   "cell_type": "code",
   "execution_count": 100,
   "metadata": {},
   "outputs": [],
   "source": [
    "import pandas as pd\n",
    "import seaborn as sns\n",
    "import statannot\n",
    "import matplotlib as mpl\n",
    "import re"
   ]
  },
  {
   "cell_type": "code",
   "execution_count": 28,
   "metadata": {},
   "outputs": [],
   "source": [
    "pd.options.display.max_rows = 100"
   ]
  },
  {
   "cell_type": "markdown",
   "metadata": {},
   "source": [
    "Read ACE2 Exon9 and Exon9a counts"
   ]
  },
  {
   "cell_type": "code",
   "execution_count": 29,
   "metadata": {},
   "outputs": [],
   "source": [
    "data = pd.read_table(\"short_ace2.txt\")"
   ]
  },
  {
   "cell_type": "markdown",
   "metadata": {},
   "source": [
    "Manual group assignment of samples"
   ]
  },
  {
   "cell_type": "code",
   "execution_count": 30,
   "metadata": {},
   "outputs": [],
   "source": [
    "fdel508 = \"\"\"9A\n",
    "CF001\n",
    "CF007\n",
    "CF011\n",
    "CF012\n",
    "CF018\n",
    "CF019\n",
    "CF021\n",
    "CF022\n",
    "CF023\n",
    "CF024\n",
    "CF025\n",
    "CF029\"\"\".split(\"\\n\")"
   ]
  },
  {
   "cell_type": "code",
   "execution_count": 31,
   "metadata": {},
   "outputs": [],
   "source": [
    "comphet = \"\"\"1A\n",
    "10A\n",
    "CF028\n",
    "CF002\n",
    "CF003\n",
    "CF006\n",
    "CF008\n",
    "CF015\n",
    "CF020\n",
    "CF026\"\"\".split(\"\\n\")"
   ]
  },
  {
   "cell_type": "code",
   "execution_count": 32,
   "metadata": {},
   "outputs": [],
   "source": [
    "normal = \"\"\"N001\n",
    "N002\n",
    "N003\n",
    "N004\n",
    "N005\n",
    "N006\n",
    "N007\n",
    "N008\n",
    "N009\n",
    "N010\n",
    "N011\"\"\".split(\"\\n\")"
   ]
  },
  {
   "cell_type": "markdown",
   "metadata": {},
   "source": [
    "Default group"
   ]
  },
  {
   "cell_type": "code",
   "execution_count": 33,
   "metadata": {},
   "outputs": [],
   "source": [
    "data[\"group\"] = \"HV\""
   ]
  },
  {
   "cell_type": "code",
   "execution_count": 34,
   "metadata": {},
   "outputs": [],
   "source": [
    "for i in comphet:\n",
    "    data.loc[data.Sample.str.contains(i), \"group\"] = \"CompHet\""
   ]
  },
  {
   "cell_type": "code",
   "execution_count": 35,
   "metadata": {},
   "outputs": [],
   "source": [
    "for i in fdel508:\n",
    "    data.loc[data.Sample.str.contains(i), \"group\"] = \"F508del\""
   ]
  },
  {
   "cell_type": "code",
   "execution_count": 36,
   "metadata": {},
   "outputs": [],
   "source": [
    "data.loc[data.Sample.str.contains(\"uhrna\"), \"group\"] = \"uRNA\""
   ]
  },
  {
   "cell_type": "markdown",
   "metadata": {},
   "source": [
    "Remove universal RNA samples"
   ]
  },
  {
   "cell_type": "code",
   "execution_count": 37,
   "metadata": {},
   "outputs": [],
   "source": [
    "data = data.loc[data.group != \"uRNA\", :]"
   ]
  },
  {
   "cell_type": "markdown",
   "metadata": {},
   "source": [
    "Convert wide to long for by exon"
   ]
  },
  {
   "cell_type": "code",
   "execution_count": 38,
   "metadata": {},
   "outputs": [],
   "source": [
    "data = data.melt(id_vars=[\"Sample\", \"group\"], value_vars=[\"Exon9a\", \"Exon9\"], value_name=\"Expression\", var_name=\"Exon\")"
   ]
  },
  {
   "cell_type": "markdown",
   "metadata": {},
   "source": [
    "Order groups"
   ]
  },
  {
   "cell_type": "code",
   "execution_count": 39,
   "metadata": {},
   "outputs": [],
   "source": [
    "data.group = pd.Categorical(data.group, categories=[\"HV\", \"F508del\", \"CompHet\"])"
   ]
  },
  {
   "cell_type": "markdown",
   "metadata": {},
   "source": [
    "Order exons"
   ]
  },
  {
   "cell_type": "code",
   "execution_count": 40,
   "metadata": {},
   "outputs": [],
   "source": [
    "data.Exon = pd.Categorical(data.Exon, categories=[\"Exon9\", \"Exon9a\"])"
   ]
  },
  {
   "cell_type": "markdown",
   "metadata": {},
   "source": [
    "Match sample names from fastq files and names"
   ]
  },
  {
   "cell_type": "code",
   "execution_count": 41,
   "metadata": {},
   "outputs": [],
   "source": [
    "sample_order = \"\"\"9A\n",
    "CF001\n",
    "CF007\n",
    "CF011\n",
    "CF012\n",
    "CF018\n",
    "CF019\n",
    "CF021\n",
    "CF022\n",
    "CF023\n",
    "CF024\n",
    "CF025\n",
    "CF029\n",
    "1A\n",
    "10A\n",
    "CF028\n",
    "CF002\n",
    "CF003\n",
    "CF006\n",
    "CF008\n",
    "CF015\n",
    "CF020\n",
    "CF026\n",
    "N001\n",
    "N002\n",
    "N003\n",
    "N004\n",
    "N005\n",
    "N006\n",
    "N007\n",
    "N008\n",
    "N009\n",
    "N010\n",
    "N011\"\"\".split(\"\\n\")"
   ]
  },
  {
   "cell_type": "markdown",
   "metadata": {},
   "source": [
    "Load sample groups from k-means analysis (same order as above for matching)"
   ]
  },
  {
   "cell_type": "code",
   "execution_count": 45,
   "metadata": {},
   "outputs": [],
   "source": [
    "sample_groups = pd.read_csv(\"02kmeans-sample-groups.csv\", index_col=0)"
   ]
  },
  {
   "cell_type": "code",
   "execution_count": 46,
   "metadata": {
    "scrolled": false
   },
   "outputs": [],
   "source": [
    "for i, s in enumerate(sample_order):\n",
    "    data.loc[data.Sample.str.contains(s), \"cluster\"] = sample_groups.x.values[i]"
   ]
  },
  {
   "cell_type": "markdown",
   "metadata": {},
   "source": [
    "Set it as `group2`"
   ]
  },
  {
   "cell_type": "code",
   "execution_count": 47,
   "metadata": {
    "scrolled": false
   },
   "outputs": [],
   "source": [
    "data[\"group2\"] = \"NA\"\n",
    "data.loc[(data.group == \"HV\") & (data.cluster == \"A\"), \"group2\"] = \"HV (cl. A)\"\n",
    "data.loc[(data.group != \"HV\") & (data.cluster == \"A\"), \"group2\"] = \"CF (cl. A)\"\n",
    "data.loc[(data.group != \"HV\") & (data.cluster == \"B\"), \"group2\"] = \"CF (cl. B)\"\n",
    "data.loc[(data.group != \"HV\") & (data.cluster == \"C\"), \"group2\"] = \"CF (cl. C)\""
   ]
  },
  {
   "cell_type": "markdown",
   "metadata": {},
   "source": [
    "Load counts to get library sizes"
   ]
  },
  {
   "cell_type": "code",
   "execution_count": 51,
   "metadata": {},
   "outputs": [],
   "source": [
    "counts = pd.read_table(\"Validation_cohort_raw_counts_relabeled_for_upload_with_genes.txt\")"
   ]
  },
  {
   "cell_type": "code",
   "execution_count": 52,
   "metadata": {},
   "outputs": [],
   "source": [
    "counts = counts.iloc[:, 2:]"
   ]
  },
  {
   "cell_type": "code",
   "execution_count": 55,
   "metadata": {},
   "outputs": [],
   "source": [
    "lib_sizes = counts.sum(axis=0)"
   ]
  },
  {
   "cell_type": "markdown",
   "metadata": {},
   "source": [
    "Remove one outlier and 2 universal RNAs"
   ]
  },
  {
   "cell_type": "code",
   "execution_count": 65,
   "metadata": {},
   "outputs": [],
   "source": [
    "lib_sizes.drop([\"4_F508del_F508del_4\", \"uhrna1\", \"uhrna2\"], inplace=True)"
   ]
  },
  {
   "cell_type": "markdown",
   "metadata": {},
   "source": [
    "Add library sizes to data table"
   ]
  },
  {
   "cell_type": "code",
   "execution_count": 66,
   "metadata": {},
   "outputs": [],
   "source": [
    "for i, s in enumerate(sample_order):\n",
    "    data.loc[data.Sample.str.contains(s), \"lib_size\"] = lib_sizes.values[i]"
   ]
  },
  {
   "cell_type": "markdown",
   "metadata": {},
   "source": [
    "Compute CPM of exon counts"
   ]
  },
  {
   "cell_type": "code",
   "execution_count": 70,
   "metadata": {},
   "outputs": [],
   "source": [
    "data[\"cpm\"] = data.Expression * 1e6 / data.lib_size"
   ]
  },
  {
   "cell_type": "markdown",
   "metadata": {},
   "source": [
    "Copy data for k-means cluster visualization"
   ]
  },
  {
   "cell_type": "code",
   "execution_count": 71,
   "metadata": {},
   "outputs": [],
   "source": [
    "data2 = data.copy()\n",
    "data2 = data2.loc[data2.group2 != \"NA\", :]"
   ]
  },
  {
   "cell_type": "code",
   "execution_count": 72,
   "metadata": {},
   "outputs": [],
   "source": [
    "data2.group2 = pd.Categorical(data.group2, categories=[\n",
    "    \"HV (cl. A)\",\n",
    "    \"CF (cl. A)\",\n",
    "    \"CF (cl. B)\",\n",
    "    \"CF (cl. C)\",\n",
    "])"
   ]
  },
  {
   "cell_type": "markdown",
   "metadata": {},
   "source": [
    "Plot Exon CPM counts by genotype"
   ]
  },
  {
   "cell_type": "code",
   "execution_count": 129,
   "metadata": {},
   "outputs": [
    {
     "name": "stdout",
     "output_type": "stream",
     "text": [
      "F508del_Exon9 v.s. F508del_Exon9a: t-test independent samples with Bonferroni correction, P_val=3.689e-02 stat=2.927e+00\n",
      "HV_Exon9 v.s. HV_Exon9a: t-test independent samples with Bonferroni correction, P_val=5.544e-02 stat=2.799e+00\n",
      "CompHet_Exon9 v.s. CompHet_Exon9a: t-test independent samples with Bonferroni correction, P_val=4.331e-03 stat=3.986e+00\n",
      "HV_Exon9a v.s. F508del_Exon9a: t-test independent samples with Bonferroni correction, P_val=5.204e-01 stat=1.696e+00\n",
      "HV_Exon9a v.s. CompHet_Exon9a: t-test independent samples with Bonferroni correction, P_val=4.058e-01 stat=1.842e+00\n"
     ]
    },
    {
     "data": {
      "image/png": "[encoded data removed]",
      "text/plain": [
       "<Figure size 432x288 with 1 Axes>"
      ]
     },
     "metadata": {
      "needs_background": "light"
     },
     "output_type": "display_data"
    }
   ],
   "source": [
    "ax = sns.boxplot(data=data, x=\"group\", y=\"cpm\", hue=\"Exon\")\n",
    "sns.swarmplot(data=data, x=\"group\", y=\"cpm\", hue=\"Exon\", dodge=True, ax=ax, color=\"black\")\n",
    "h, l = ax.get_legend_handles_labels()\n",
    "ax.legend(h[:2], l[:2], title=\"Exon\", loc=\"upper left\")\n",
    "ax.set_ylabel(\"CPM read count\", fontsize=16)\n",
    "ax.set_xlabel(\"Genotype\")\n",
    "for tick in ax.xaxis.get_major_ticks():\n",
    "    tick.label.set_fontsize(14)\n",
    "\n",
    "test_results = statannot.add_stat_annotation(\n",
    "    ax, \n",
    "    data=data, \n",
    "    x=\"group\", \n",
    "    y=\"cpm\", \n",
    "    hue=\"Exon\",\n",
    "    box_pairs=[\n",
    "        ((\"HV\", \"Exon9a\"), (\"F508del\", \"Exon9a\")),\n",
    "        ((\"HV\", \"Exon9a\"), (\"CompHet\", \"Exon9a\")),\n",
    "        ((\"HV\", \"Exon9\"), (\"HV\", \"Exon9a\")),\n",
    "        ((\"F508del\", \"Exon9\"), (\"F508del\", \"Exon9a\")),\n",
    "        ((\"CompHet\", \"Exon9\"), (\"CompHet\", \"Exon9a\")),\n",
    "    ],\n",
    "    test=\"t-test_ind\",\n",
    "    text_format='simple',\n",
    "    pvalue_format_string=\"{:.2e}\",\n",
    "    loc='inside', verbose=2, linewidth=1, \n",
    "    line_offset_to_box=0.05, text_offset=0.01, \n",
    "    line_offset=0.04, line_height=0.01,\n",
    "    pvalue_thresholds=[[1e-5, \"\"]]\n",
    ")\n",
    "\n",
    "# Find all comparisons added by stat_annot\n",
    "n_annots = 0\n",
    "annot_idx = None\n",
    "for i, x in enumerate(ax.get_children()):\n",
    "    if isinstance(x, mpl.text.Annotation):\n",
    "        annot_text = x.get_text()\n",
    "        if re.match(r\"p = \", annot_text):\n",
    "            n_annots += 1\n",
    "            if annot_idx is None:\n",
    "                annot_idx = i\n",
    "\n",
    "# Find not significant ones and mark their indices for removal\n",
    "to_del = []\n",
    "for i in range(n_annots):\n",
    "    this_idx = annot_idx + i\n",
    "    line_idx = annot_idx - n_annots + i\n",
    "    annot = ax.get_children()[this_idx]\n",
    "    p_val = float(annot.get_text().split(\"=\")[1].strip())\n",
    "    if p_val >= 0.05:\n",
    "        to_del.append(this_idx)\n",
    "        to_del.append(line_idx)\n",
    "        annot.set_text(\"n.s.\")\n",
    "\n",
    "# Remove not significant comparisons and their brackets\n",
    "# for idx in sorted(to_del, reverse=True):\n",
    "#     ax.get_children()[idx].remove()\n",
    "\n",
    "\n",
    "ax.set_xlim(ax.get_xlim()[0] - 0.2, ax.get_xlim()[1])\n",
    "ax.set_ylim(ax.get_ylim()[0], 2.8)\n",
    "ax.figure.savefig(\"07short_ace2.pdf\")"
   ]
  },
  {
   "cell_type": "markdown",
   "metadata": {},
   "source": [
    "Plot Exon CPM counts by k-means cluster and genotype"
   ]
  },
  {
   "cell_type": "code",
   "execution_count": 132,
   "metadata": {},
   "outputs": [
    {
     "name": "stdout",
     "output_type": "stream",
     "text": [
      "CF (cl. A)_Exon9 v.s. CF (cl. A)_Exon9a: t-test independent samples with Bonferroni correction, P_val=6.658e-02 stat=2.902e+00\n",
      "HV (cl. A)_Exon9 v.s. HV (cl. A)_Exon9a: t-test independent samples with Bonferroni correction, P_val=7.762e-02 stat=2.799e+00\n",
      "CF (cl. B)_Exon9 v.s. CF (cl. B)_Exon9a: t-test independent samples with Bonferroni correction, P_val=5.697e-01 stat=1.938e+00\n",
      "CF (cl. C)_Exon9 v.s. CF (cl. C)_Exon9a: t-test independent samples with Bonferroni correction, P_val=3.077e-02 stat=3.498e+00\n",
      "HV (cl. A)_Exon9a v.s. CF (cl. A)_Exon9a: t-test independent samples with Bonferroni correction, P_val=1.000e+00 stat=1.175e+00\n",
      "HV (cl. A)_Exon9a v.s. CF (cl. B)_Exon9a: t-test independent samples with Bonferroni correction, P_val=1.000e+00 stat=1.365e+00\n",
      "HV (cl. A)_Exon9a v.s. CF (cl. C)_Exon9a: t-test independent samples with Bonferroni correction, P_val=4.337e-01 stat=2.007e+00\n"
     ]
    },
    {
     "data": {
      "image/png": "[encoded data removed]",
      "text/plain": [
       "<Figure size 432x288 with 1 Axes>"
      ]
     },
     "metadata": {
      "needs_background": "light"
     },
     "output_type": "display_data"
    }
   ],
   "source": [
    "ax = sns.boxplot(data=data2, x=\"group2\", y=\"cpm\", hue=\"Exon\")\n",
    "sns.swarmplot(data=data2, x=\"group2\", y=\"cpm\", hue=\"Exon\", dodge=True, ax=ax, color=\"black\")\n",
    "h, l = ax.get_legend_handles_labels()\n",
    "ax.legend(h[:2], l[:2], title=\"Exon\", loc=\"upper left\")\n",
    "ax.set_ylabel(\"CPM read count\", fontsize=16)\n",
    "ax.set_xlabel(\"Genotype in clusters\")\n",
    "for tick in ax.xaxis.get_major_ticks():\n",
    "    tick.label.set_fontsize(14)\n",
    "\n",
    "test_results = statannot.add_stat_annotation(\n",
    "    ax, \n",
    "    data=data2, \n",
    "    x=\"group2\", \n",
    "    y=\"cpm\", \n",
    "    hue=\"Exon\",\n",
    "    box_pairs=[\n",
    "        ((\"HV (cl. A)\", \"Exon9a\"), (\"CF (cl. A)\", \"Exon9a\")),\n",
    "        ((\"HV (cl. A)\", \"Exon9a\"), (\"CF (cl. B)\", \"Exon9a\")),\n",
    "        ((\"HV (cl. A)\", \"Exon9a\"), (\"CF (cl. C)\", \"Exon9a\")),\n",
    "        ((\"HV (cl. A)\", \"Exon9\"), (\"HV (cl. A)\", \"Exon9a\")),\n",
    "        ((\"CF (cl. A)\", \"Exon9\"), (\"CF (cl. A)\", \"Exon9a\")),\n",
    "        ((\"CF (cl. B)\", \"Exon9\"), (\"CF (cl. B)\", \"Exon9a\")),\n",
    "        ((\"CF (cl. C)\", \"Exon9\"), (\"CF (cl. C)\", \"Exon9a\")),\n",
    "    ],\n",
    "    test=\"t-test_ind\",\n",
    "    text_format='simple',\n",
    "    pvalue_format_string=\"{:.2e}\",\n",
    "    loc='inside', verbose=2, linewidth=1, \n",
    "    line_offset_to_box=0.05, text_offset=0.01, \n",
    "    line_offset=0.04, line_height=0.01,\n",
    "    pvalue_thresholds=[[1e-5, \"\"]]\n",
    ")\n",
    "\n",
    "# Find all comparisons added by stat_annot\n",
    "n_annots = 0\n",
    "annot_idx = None\n",
    "for i, x in enumerate(ax.get_children()):\n",
    "    if isinstance(x, mpl.text.Annotation):\n",
    "        annot_text = x.get_text()\n",
    "        if re.match(r\"p = \", annot_text):\n",
    "            n_annots += 1\n",
    "            if annot_idx is None:\n",
    "                annot_idx = i\n",
    "\n",
    "# Find not significant ones and mark their indices for removal\n",
    "to_del = []\n",
    "for i in range(n_annots):\n",
    "    this_idx = annot_idx + i\n",
    "    line_idx = annot_idx - n_annots + i\n",
    "    annot = ax.get_children()[this_idx]\n",
    "    p_val = float(annot.get_text().split(\"=\")[1].strip())\n",
    "    if p_val >= 0.05:\n",
    "        to_del.append(this_idx)\n",
    "        to_del.append(line_idx)\n",
    "        annot.set_text(\"n.s.\")\n",
    "\n",
    "# Remove not significant comparisons and their brackets\n",
    "# for idx in sorted(to_del, reverse=True):\n",
    "#     ax.get_children()[idx].remove()\n",
    "\n",
    "ax.set_xlim(ax.get_xlim()[0] - 0.5, ax.get_xlim()[1])\n",
    "ax.set_ylim(ax.get_ylim()[0], 2.8)\n",
    "ax.figure.savefig(\"07short_ace2_clusters.pdf\")"
   ]
  },
  {
   "cell_type": "code",
   "execution_count": null,
   "metadata": {},
   "outputs": [],
   "source": []
  },
  {
   "cell_type": "code",
   "execution_count": null,
   "metadata": {},
   "outputs": [],
   "source": []
  },
  {
   "cell_type": "code",
   "execution_count": null,
   "metadata": {},
   "outputs": [],
   "source": []
  }
 ],
 "metadata": {
  "kernelspec": {
   "display_name": "2020-sala",
   "language": "python",
   "name": "2020-sala"
  },
  "language_info": {
   "codemirror_mode": {
    "name": "ipython",
    "version": 3
   },
   "file_extension": ".py",
   "mimetype": "text/x-python",
   "name": "python",
   "nbconvert_exporter": "python",
   "pygments_lexer": "ipython3",
   "version": "3.8.8"
  }
 },
 "nbformat": 4,
 "nbformat_minor": 2
}
